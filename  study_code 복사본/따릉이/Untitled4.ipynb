{
 "cells": [
  {
   "cell_type": "code",
   "execution_count": 2,
   "metadata": {},
   "outputs": [
    {
     "name": "stdout",
     "output_type": "stream",
     "text": [
      "Requirement already satisfied: xgboost in /Users/nam-ilyang/opt/anaconda3/lib/python3.8/site-packages (1.4.2)\n",
      "Requirement already satisfied: numpy in /Users/nam-ilyang/opt/anaconda3/lib/python3.8/site-packages (from xgboost) (1.19.2)\n",
      "Requirement already satisfied: scipy in /Users/nam-ilyang/opt/anaconda3/lib/python3.8/site-packages (from xgboost) (1.5.2)\n",
      "Note: you may need to restart the kernel to use updated packages.\n"
     ]
    }
   ],
   "source": [
    "pip install xgboost"
   ]
  },
  {
   "cell_type": "code",
   "execution_count": 4,
   "metadata": {},
   "outputs": [],
   "source": [
    "import numpy as np\n",
    "import pandas as pd\n",
    "from numpy.random import randn\n",
    "\n",
    "import matplotlib.pyplot as plt\n",
    "import seaborn as sns\n",
    "import dataprep as dp\n",
    "from patsy import dmatrices\n",
    "from statsmodels.stats.outliers_influence import variance_inflation_factor\n",
    "\n",
    "from sklearn.model_selection import GridSearchCV, cross_val_score, KFold, train_test_split, cross_validate\n",
    "from sklearn.preprocessing import StandardScaler\n",
    "from sklearn.pipeline import Pipeline\n",
    "from sklearn.metrics import accuracy_score, f1_score, confusion_matrix, r2_score, mean_squared_error\n",
    "from sklearn.linear_model import LinearRegression, LogisticRegression, RANSACRegressor, Ridge, Lasso, ElasticNet\n",
    "\n",
    "import warnings\n",
    "warnings.filterwarnings('ignore')\n",
    "from sklearn.model_selection import GridSearchCV, cross_val_score, KFold\n",
    "from sklearn.preprocessing import StandardScaler, RobustScaler, MinMaxScaler, MaxAbsScaler\n",
    "from sklearn.model_selection import cross_val_score,KFold\n",
    "from sklearn.pipeline import make_pipeline\n",
    "from sklearn.metrics import accuracy_score, f1_score, confusion_matrix, r2_score, mean_squared_error\n",
    "from sklearn.linear_model import LinearRegression, RANSACRegressor, ElasticNet\n",
    "from sklearn.ensemble import RandomForestRegressor, ExtraTreesRegressor, AdaBoostRegressor\n",
    "from sklearn.svm import LinearSVC\n",
    "from sklearn.neural_network import MLPClassifier\n",
    "from sklearn.neighbors import KNeighborsClassifier,KNeighborsRegressor\n",
    "from sklearn.tree import DecisionTreeRegressor"
   ]
  },
  {
   "cell_type": "code",
   "execution_count": 5,
   "metadata": {},
   "outputs": [],
   "source": [
    "train_df = pd.read_csv('train.csv')\n",
    "train_df.drop(['id'], axis=1, inplace=True)\n",
    "column_names = list(train_df.columns.values.tolist())"
   ]
  },
  {
   "cell_type": "code",
   "execution_count": 6,
   "metadata": {},
   "outputs": [],
   "source": [
    "train_df.drop(index=[934, 1035], inplace=True)"
   ]
  },
  {
   "cell_type": "code",
   "execution_count": 7,
   "metadata": {},
   "outputs": [
    {
     "data": {
      "text/plain": [
       "hour                      0\n",
       "hour_bef_temperature      0\n",
       "hour_bef_precipitation    0\n",
       "hour_bef_windspeed        0\n",
       "hour_bef_humidity         0\n",
       "hour_bef_visibility       0\n",
       "hour_bef_ozone            0\n",
       "hour_bef_pm10             0\n",
       "hour_bef_pm2.5            0\n",
       "count                     0\n",
       "dtype: int64"
      ]
     },
     "execution_count": 7,
     "metadata": {},
     "output_type": "execute_result"
    }
   ],
   "source": [
    "from sklearn.experimental import enable_iterative_imputer\n",
    "from sklearn.impute import IterativeImputer\n",
    "\n",
    "train = train_df.copy()\n",
    "\n",
    "train = IterativeImputer(random_state=2021).fit_transform(train)\n",
    "\n",
    "train_imp = pd.DataFrame(train)\n",
    "train_imp.columns = column_names\n",
    "\n",
    "train_imp.isna().sum()"
   ]
  },
  {
   "cell_type": "code",
   "execution_count": 8,
   "metadata": {},
   "outputs": [],
   "source": [
    "columns=['hour','hour_bef_temperature','hour_bef_humidity','hour_bef_ozone','hour_bef_windspeed','count']\n",
    "train_fin=train_imp[columns]"
   ]
  },
  {
   "cell_type": "code",
   "execution_count": 9,
   "metadata": {},
   "outputs": [
    {
     "data": {
      "text/plain": [
       "IsolationForest(contamination=0.01, max_features=2, n_jobs=-1,\n",
       "                random_state=2021)"
      ]
     },
     "execution_count": 9,
     "metadata": {},
     "output_type": "execute_result"
    }
   ],
   "source": [
    "from sklearn.ensemble import IsolationForest \n",
    "model=IsolationForest(n_estimators=100, max_samples='auto', n_jobs=-1, max_features=2, contamination=0.01, random_state=2021)\n",
    "model.fit(train_fin.to_numpy())"
   ]
  },
  {
   "cell_type": "code",
   "execution_count": 10,
   "metadata": {},
   "outputs": [
    {
     "name": "stderr",
     "output_type": "stream",
     "text": [
      "NumExpr defaulting to 8 threads.\n"
     ]
    },
    {
     "data": {
      "text/html": [
       "<div>\n",
       "<style scoped>\n",
       "    .dataframe tbody tr th:only-of-type {\n",
       "        vertical-align: middle;\n",
       "    }\n",
       "\n",
       "    .dataframe tbody tr th {\n",
       "        vertical-align: top;\n",
       "    }\n",
       "\n",
       "    .dataframe thead th {\n",
       "        text-align: right;\n",
       "    }\n",
       "</style>\n",
       "<table border=\"1\" class=\"dataframe\">\n",
       "  <thead>\n",
       "    <tr style=\"text-align: right;\">\n",
       "      <th></th>\n",
       "      <th>hour</th>\n",
       "      <th>hour_bef_temperature</th>\n",
       "      <th>hour_bef_humidity</th>\n",
       "      <th>hour_bef_ozone</th>\n",
       "      <th>hour_bef_windspeed</th>\n",
       "      <th>count</th>\n",
       "      <th>scores</th>\n",
       "      <th>anomaly</th>\n",
       "    </tr>\n",
       "  </thead>\n",
       "  <tbody>\n",
       "    <tr>\n",
       "      <th>4</th>\n",
       "      <td>18.0</td>\n",
       "      <td>29.5</td>\n",
       "      <td>7.0</td>\n",
       "      <td>0.057</td>\n",
       "      <td>4.8</td>\n",
       "      <td>431.0</td>\n",
       "      <td>-0.057651</td>\n",
       "      <td>-1</td>\n",
       "    </tr>\n",
       "    <tr>\n",
       "      <th>117</th>\n",
       "      <td>15.0</td>\n",
       "      <td>28.4</td>\n",
       "      <td>43.0</td>\n",
       "      <td>0.099</td>\n",
       "      <td>5.1</td>\n",
       "      <td>97.0</td>\n",
       "      <td>-0.009766</td>\n",
       "      <td>-1</td>\n",
       "    </tr>\n",
       "    <tr>\n",
       "      <th>245</th>\n",
       "      <td>16.0</td>\n",
       "      <td>21.1</td>\n",
       "      <td>21.0</td>\n",
       "      <td>0.075</td>\n",
       "      <td>5.6</td>\n",
       "      <td>382.0</td>\n",
       "      <td>-0.008752</td>\n",
       "      <td>-1</td>\n",
       "    </tr>\n",
       "    <tr>\n",
       "      <th>292</th>\n",
       "      <td>16.0</td>\n",
       "      <td>29.0</td>\n",
       "      <td>41.0</td>\n",
       "      <td>0.106</td>\n",
       "      <td>4.1</td>\n",
       "      <td>126.0</td>\n",
       "      <td>-0.001004</td>\n",
       "      <td>-1</td>\n",
       "    </tr>\n",
       "    <tr>\n",
       "      <th>339</th>\n",
       "      <td>19.0</td>\n",
       "      <td>28.7</td>\n",
       "      <td>8.0</td>\n",
       "      <td>0.052</td>\n",
       "      <td>3.3</td>\n",
       "      <td>317.0</td>\n",
       "      <td>-0.003443</td>\n",
       "      <td>-1</td>\n",
       "    </tr>\n",
       "    <tr>\n",
       "      <th>358</th>\n",
       "      <td>17.0</td>\n",
       "      <td>28.1</td>\n",
       "      <td>19.0</td>\n",
       "      <td>0.088</td>\n",
       "      <td>2.0</td>\n",
       "      <td>248.0</td>\n",
       "      <td>-0.011317</td>\n",
       "      <td>-1</td>\n",
       "    </tr>\n",
       "    <tr>\n",
       "      <th>362</th>\n",
       "      <td>15.0</td>\n",
       "      <td>29.6</td>\n",
       "      <td>22.0</td>\n",
       "      <td>0.099</td>\n",
       "      <td>2.5</td>\n",
       "      <td>227.0</td>\n",
       "      <td>-0.017209</td>\n",
       "      <td>-1</td>\n",
       "    </tr>\n",
       "    <tr>\n",
       "      <th>448</th>\n",
       "      <td>18.0</td>\n",
       "      <td>29.3</td>\n",
       "      <td>32.0</td>\n",
       "      <td>0.082</td>\n",
       "      <td>2.6</td>\n",
       "      <td>380.0</td>\n",
       "      <td>-0.014948</td>\n",
       "      <td>-1</td>\n",
       "    </tr>\n",
       "    <tr>\n",
       "      <th>641</th>\n",
       "      <td>16.0</td>\n",
       "      <td>30.0</td>\n",
       "      <td>16.0</td>\n",
       "      <td>0.100</td>\n",
       "      <td>3.2</td>\n",
       "      <td>304.0</td>\n",
       "      <td>-0.046998</td>\n",
       "      <td>-1</td>\n",
       "    </tr>\n",
       "    <tr>\n",
       "      <th>784</th>\n",
       "      <td>8.0</td>\n",
       "      <td>3.2</td>\n",
       "      <td>83.0</td>\n",
       "      <td>0.004</td>\n",
       "      <td>0.4</td>\n",
       "      <td>21.0</td>\n",
       "      <td>-0.003223</td>\n",
       "      <td>-1</td>\n",
       "    </tr>\n",
       "    <tr>\n",
       "      <th>803</th>\n",
       "      <td>18.0</td>\n",
       "      <td>27.7</td>\n",
       "      <td>35.0</td>\n",
       "      <td>0.080</td>\n",
       "      <td>2.8</td>\n",
       "      <td>425.0</td>\n",
       "      <td>-0.010166</td>\n",
       "      <td>-1</td>\n",
       "    </tr>\n",
       "    <tr>\n",
       "      <th>1146</th>\n",
       "      <td>8.0</td>\n",
       "      <td>4.5</td>\n",
       "      <td>73.0</td>\n",
       "      <td>0.023</td>\n",
       "      <td>0.1</td>\n",
       "      <td>146.0</td>\n",
       "      <td>-0.000013</td>\n",
       "      <td>-1</td>\n",
       "    </tr>\n",
       "    <tr>\n",
       "      <th>1291</th>\n",
       "      <td>19.0</td>\n",
       "      <td>25.9</td>\n",
       "      <td>25.0</td>\n",
       "      <td>0.098</td>\n",
       "      <td>7.0</td>\n",
       "      <td>280.0</td>\n",
       "      <td>-0.032353</td>\n",
       "      <td>-1</td>\n",
       "    </tr>\n",
       "    <tr>\n",
       "      <th>1425</th>\n",
       "      <td>18.0</td>\n",
       "      <td>28.1</td>\n",
       "      <td>25.0</td>\n",
       "      <td>0.125</td>\n",
       "      <td>4.4</td>\n",
       "      <td>300.0</td>\n",
       "      <td>-0.030980</td>\n",
       "      <td>-1</td>\n",
       "    </tr>\n",
       "    <tr>\n",
       "      <th>1428</th>\n",
       "      <td>17.0</td>\n",
       "      <td>29.2</td>\n",
       "      <td>25.0</td>\n",
       "      <td>0.112</td>\n",
       "      <td>3.9</td>\n",
       "      <td>324.0</td>\n",
       "      <td>-0.025839</td>\n",
       "      <td>-1</td>\n",
       "    </tr>\n",
       "  </tbody>\n",
       "</table>\n",
       "</div>"
      ],
      "text/plain": [
       "      hour  hour_bef_temperature  hour_bef_humidity  hour_bef_ozone  \\\n",
       "4     18.0                  29.5                7.0           0.057   \n",
       "117   15.0                  28.4               43.0           0.099   \n",
       "245   16.0                  21.1               21.0           0.075   \n",
       "292   16.0                  29.0               41.0           0.106   \n",
       "339   19.0                  28.7                8.0           0.052   \n",
       "358   17.0                  28.1               19.0           0.088   \n",
       "362   15.0                  29.6               22.0           0.099   \n",
       "448   18.0                  29.3               32.0           0.082   \n",
       "641   16.0                  30.0               16.0           0.100   \n",
       "784    8.0                   3.2               83.0           0.004   \n",
       "803   18.0                  27.7               35.0           0.080   \n",
       "1146   8.0                   4.5               73.0           0.023   \n",
       "1291  19.0                  25.9               25.0           0.098   \n",
       "1425  18.0                  28.1               25.0           0.125   \n",
       "1428  17.0                  29.2               25.0           0.112   \n",
       "\n",
       "      hour_bef_windspeed  count    scores  anomaly  \n",
       "4                    4.8  431.0 -0.057651       -1  \n",
       "117                  5.1   97.0 -0.009766       -1  \n",
       "245                  5.6  382.0 -0.008752       -1  \n",
       "292                  4.1  126.0 -0.001004       -1  \n",
       "339                  3.3  317.0 -0.003443       -1  \n",
       "358                  2.0  248.0 -0.011317       -1  \n",
       "362                  2.5  227.0 -0.017209       -1  \n",
       "448                  2.6  380.0 -0.014948       -1  \n",
       "641                  3.2  304.0 -0.046998       -1  \n",
       "784                  0.4   21.0 -0.003223       -1  \n",
       "803                  2.8  425.0 -0.010166       -1  \n",
       "1146                 0.1  146.0 -0.000013       -1  \n",
       "1291                 7.0  280.0 -0.032353       -1  \n",
       "1425                 4.4  300.0 -0.030980       -1  \n",
       "1428                 3.9  324.0 -0.025839       -1  "
      ]
     },
     "execution_count": 10,
     "metadata": {},
     "output_type": "execute_result"
    }
   ],
   "source": [
    "score = model.decision_function(train_fin.to_numpy())\n",
    "anomaly = model.predict(train_fin.to_numpy())\n",
    "train_fin['scores']= score\n",
    "train_fin['anomaly']= anomaly\n",
    "anomaly_data = train_fin.loc[train_fin['anomaly']==-1] # 이상값은 -1으로 나타낸다.\n",
    "anomaly_data"
   ]
  },
  {
   "cell_type": "code",
   "execution_count": 11,
   "metadata": {},
   "outputs": [],
   "source": [
    "outlier_index=train_fin.index[train_fin['anomaly']==-1].tolist()\n",
    "for i in outlier_index:\n",
    "    train_fin=train_fin.drop(index=i,axis=0)\n",
    "    \n",
    "train_fin=train_fin.drop(train_fin[['anomaly']],axis=1)\n",
    "train_fin=train_fin.drop(train_fin[['scores']],axis=1)"
   ]
  },
  {
   "cell_type": "code",
   "execution_count": 12,
   "metadata": {},
   "outputs": [],
   "source": [
    "columns_fin=['hour','hour_bef_temperature','hour_bef_humidity','hour_bef_ozone','hour_bef_windspeed']\n",
    "X=train_fin[columns_fin]\n",
    "y=train_fin['count']"
   ]
  },
  {
   "cell_type": "code",
   "execution_count": 13,
   "metadata": {},
   "outputs": [],
   "source": [
    "X_train, X_test, y_train, y_test= train_test_split(X,y,test_size=0.3, random_state=2021)"
   ]
  },
  {
   "cell_type": "code",
   "execution_count": 14,
   "metadata": {},
   "outputs": [
    {
     "data": {
      "text/plain": [
       "StackingRegressor(estimators=[('rf_reg',\n",
       "                               RandomForestRegressor(max_depth=15,\n",
       "                                                     n_estimators=500,\n",
       "                                                     n_jobs=-1,\n",
       "                                                     random_state=2021)),\n",
       "                              ('aba_reg',\n",
       "                               AdaBoostRegressor(learning_rate=0.3,\n",
       "                                                 n_estimators=500,\n",
       "                                                 random_state=2021)),\n",
       "                              ('dt_reg',\n",
       "                               DecisionTreeRegressor(max_depth=15,\n",
       "                                                     random_state=2021))],\n",
       "                  final_estimator=ExtraTreesRegressor(max_depth=15,\n",
       "                                                      n_estimators=500,\n",
       "                                                      random_state=2021))"
      ]
     },
     "execution_count": 14,
     "metadata": {},
     "output_type": "execute_result"
    }
   ],
   "source": [
    "from sklearn.ensemble import StackingRegressor\n",
    "\n",
    "best_reg = ExtraTreesRegressor(n_estimators=500, max_depth=15, random_state=2021)\n",
    "\n",
    "estimators= [('rf_reg',RandomForestRegressor(max_depth=15, n_jobs=-1, n_estimators=500, random_state=2021)),\n",
    "('aba_reg',AdaBoostRegressor(n_estimators=500,learning_rate=0.3,random_state=2021)),\n",
    "('dt_reg',DecisionTreeRegressor(max_depth=15,random_state=2021))]\n",
    "\n",
    "reg= StackingRegressor(estimators=estimators, final_estimator=best_reg)\n",
    "reg.fit(X_train, y_train)"
   ]
  },
  {
   "cell_type": "code",
   "execution_count": 17,
   "metadata": {},
   "outputs": [
    {
     "name": "stdout",
     "output_type": "stream",
     "text": [
      "41.7163424216256\n"
     ]
    }
   ],
   "source": [
    "y_pred=reg.predict(X_test)\n",
    "rmse=np.sqrt(mean_squared_error(y_test,y_pred))\n",
    "print(rmse)"
   ]
  },
  {
   "cell_type": "code",
   "execution_count": 21,
   "metadata": {},
   "outputs": [
    {
     "name": "stdout",
     "output_type": "stream",
     "text": [
      "<class 'pandas.core.frame.DataFrame'>\n",
      "RangeIndex: 715 entries, 0 to 714\n",
      "Data columns (total 10 columns):\n",
      " #   Column                  Non-Null Count  Dtype  \n",
      "---  ------                  --------------  -----  \n",
      " 0   id                      715 non-null    int64  \n",
      " 1   hour                    715 non-null    int64  \n",
      " 2   hour_bef_temperature    714 non-null    float64\n",
      " 3   hour_bef_precipitation  714 non-null    float64\n",
      " 4   hour_bef_windspeed      714 non-null    float64\n",
      " 5   hour_bef_humidity       714 non-null    float64\n",
      " 6   hour_bef_visibility     714 non-null    float64\n",
      " 7   hour_bef_ozone          680 non-null    float64\n",
      " 8   hour_bef_pm10           678 non-null    float64\n",
      " 9   hour_bef_pm2.5          679 non-null    float64\n",
      "dtypes: float64(8), int64(2)\n",
      "memory usage: 56.0 KB\n"
     ]
    }
   ],
   "source": [
    "test_df=pd.read_csv('test.csv')\n",
    "test_df.info()"
   ]
  },
  {
   "cell_type": "code",
   "execution_count": 22,
   "metadata": {},
   "outputs": [
    {
     "data": {
      "text/plain": [
       "hour                      0\n",
       "hour_bef_temperature      0\n",
       "hour_bef_precipitation    0\n",
       "hour_bef_windspeed        0\n",
       "hour_bef_humidity         0\n",
       "hour_bef_visibility       0\n",
       "hour_bef_ozone            0\n",
       "hour_bef_pm10             0\n",
       "hour_bef_pm2.5            0\n",
       "count                     0\n",
       "dtype: int64"
      ]
     },
     "execution_count": 22,
     "metadata": {},
     "output_type": "execute_result"
    }
   ],
   "source": [
    "test = test_df.copy()\n",
    "\n",
    "test = IterativeImputer(random_state=2021).fit_transform(test)\n",
    "\n",
    "test_imp = pd.DataFrame(test)\n",
    "test_imp.columns = column_names\n",
    "\n",
    "test_imp.isna().sum()"
   ]
  },
  {
   "cell_type": "code",
   "execution_count": 26,
   "metadata": {},
   "outputs": [
    {
     "name": "stdout",
     "output_type": "stream",
     "text": [
      "<class 'pandas.core.frame.DataFrame'>\n",
      "RangeIndex: 715 entries, 0 to 714\n",
      "Data columns (total 5 columns):\n",
      " #   Column                Non-Null Count  Dtype  \n",
      "---  ------                --------------  -----  \n",
      " 0   hour                  715 non-null    float64\n",
      " 1   hour_bef_temperature  715 non-null    float64\n",
      " 2   hour_bef_humidity     715 non-null    float64\n",
      " 3   hour_bef_ozone        715 non-null    float64\n",
      " 4   hour_bef_windspeed    715 non-null    float64\n",
      "dtypes: float64(5)\n",
      "memory usage: 28.1 KB\n"
     ]
    }
   ],
   "source": [
    "columns_fin=['hour','hour_bef_temperature','hour_bef_humidity','hour_bef_ozone','hour_bef_windspeed']\n",
    "X_test_df=test_imp[columns_fin]\n",
    "X_test_df.info()"
   ]
  },
  {
   "cell_type": "code",
   "execution_count": 28,
   "metadata": {},
   "outputs": [],
   "source": [
    "test_pred=reg.predict(X_test_df)"
   ]
  },
  {
   "cell_type": "code",
   "execution_count": 31,
   "metadata": {},
   "outputs": [
    {
     "data": {
      "text/html": [
       "<div>\n",
       "<style scoped>\n",
       "    .dataframe tbody tr th:only-of-type {\n",
       "        vertical-align: middle;\n",
       "    }\n",
       "\n",
       "    .dataframe tbody tr th {\n",
       "        vertical-align: top;\n",
       "    }\n",
       "\n",
       "    .dataframe thead th {\n",
       "        text-align: right;\n",
       "    }\n",
       "</style>\n",
       "<table border=\"1\" class=\"dataframe\">\n",
       "  <thead>\n",
       "    <tr style=\"text-align: right;\">\n",
       "      <th></th>\n",
       "      <th>id</th>\n",
       "      <th>count</th>\n",
       "    </tr>\n",
       "  </thead>\n",
       "  <tbody>\n",
       "    <tr>\n",
       "      <th>0</th>\n",
       "      <td>0</td>\n",
       "      <td>39.126695</td>\n",
       "    </tr>\n",
       "    <tr>\n",
       "      <th>1</th>\n",
       "      <td>1</td>\n",
       "      <td>26.123071</td>\n",
       "    </tr>\n",
       "    <tr>\n",
       "      <th>2</th>\n",
       "      <td>2</td>\n",
       "      <td>33.999256</td>\n",
       "    </tr>\n",
       "    <tr>\n",
       "      <th>3</th>\n",
       "      <td>4</td>\n",
       "      <td>9.477891</td>\n",
       "    </tr>\n",
       "    <tr>\n",
       "      <th>4</th>\n",
       "      <td>5</td>\n",
       "      <td>33.779060</td>\n",
       "    </tr>\n",
       "    <tr>\n",
       "      <th>...</th>\n",
       "      <td>...</td>\n",
       "      <td>...</td>\n",
       "    </tr>\n",
       "    <tr>\n",
       "      <th>710</th>\n",
       "      <td>2148</td>\n",
       "      <td>114.279322</td>\n",
       "    </tr>\n",
       "    <tr>\n",
       "      <th>711</th>\n",
       "      <td>2149</td>\n",
       "      <td>114.279322</td>\n",
       "    </tr>\n",
       "    <tr>\n",
       "      <th>712</th>\n",
       "      <td>2165</td>\n",
       "      <td>110.581322</td>\n",
       "    </tr>\n",
       "    <tr>\n",
       "      <th>713</th>\n",
       "      <td>2166</td>\n",
       "      <td>139.632695</td>\n",
       "    </tr>\n",
       "    <tr>\n",
       "      <th>714</th>\n",
       "      <td>2177</td>\n",
       "      <td>113.302037</td>\n",
       "    </tr>\n",
       "  </tbody>\n",
       "</table>\n",
       "<p>715 rows × 2 columns</p>\n",
       "</div>"
      ],
      "text/plain": [
       "       id       count\n",
       "0       0   39.126695\n",
       "1       1   26.123071\n",
       "2       2   33.999256\n",
       "3       4    9.477891\n",
       "4       5   33.779060\n",
       "..    ...         ...\n",
       "710  2148  114.279322\n",
       "711  2149  114.279322\n",
       "712  2165  110.581322\n",
       "713  2166  139.632695\n",
       "714  2177  113.302037\n",
       "\n",
       "[715 rows x 2 columns]"
      ]
     },
     "execution_count": 31,
     "metadata": {},
     "output_type": "execute_result"
    }
   ],
   "source": [
    "submission=pd.read_csv('submission.csv')\n",
    "submission['count']=test_pred\n",
    "submission"
   ]
  },
  {
   "cell_type": "code",
   "execution_count": 33,
   "metadata": {},
   "outputs": [],
   "source": [
    "submission.to_csv('model_if_stacking.csv',index=False)"
   ]
  }
 ],
 "metadata": {
  "kernelspec": {
   "display_name": "Python 3",
   "language": "python",
   "name": "python3"
  },
  "language_info": {
   "codemirror_mode": {
    "name": "ipython",
    "version": 3
   },
   "file_extension": ".py",
   "mimetype": "text/x-python",
   "name": "python",
   "nbconvert_exporter": "python",
   "pygments_lexer": "ipython3",
   "version": "3.8.5"
  }
 },
 "nbformat": 4,
 "nbformat_minor": 4
}
