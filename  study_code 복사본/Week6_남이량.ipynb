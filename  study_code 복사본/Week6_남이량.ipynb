{
 "cells": [
  {
   "cell_type": "markdown",
   "metadata": {},
   "source": [
    "# exercise 8"
   ]
  },
  {
   "cell_type": "code",
   "execution_count": 1,
   "metadata": {},
   "outputs": [],
   "source": [
    "import sklearn \n",
    "assert sklearn.__version__ >= '0.20'\n",
    "import os\n",
    "import numpy as np\n",
    "import pandas as pd\n",
    "from sklearn.ensemble import RandomForestClassifier, ExtraTreesClassifier\n",
    "from sklearn.svm import LinearSVC\n",
    "from sklearn.neural_network import MLPClassifier\n",
    "from sklearn.neighbors import KNeighborsClassifier"
   ]
  },
  {
   "cell_type": "code",
   "execution_count": 2,
   "metadata": {
    "scrolled": true
   },
   "outputs": [
    {
     "data": {
      "text/plain": [
       "dict_keys(['data', 'target', 'frame', 'categories', 'feature_names', 'target_names', 'DESCR', 'details', 'url'])"
      ]
     },
     "execution_count": 2,
     "metadata": {},
     "output_type": "execute_result"
    }
   ],
   "source": [
    "from sklearn.datasets import fetch_openml\n",
    "mnist = fetch_openml('mnist_784', version=1, as_frame=False)\n",
    "mnist.keys()"
   ]
  },
  {
   "cell_type": "code",
   "execution_count": 3,
   "metadata": {},
   "outputs": [],
   "source": [
    "from sklearn.model_selection import train_test_split\n",
    "\n",
    "X_train_val, X_test, y_train_val, y_test = train_test_split(mnist.data, mnist.target, test_size=1000, random_state=2021)\n",
    "\n",
    "X_train, X_val, y_train, y_val = train_test_split(X_train_val, y_train_val, test_size=1000, random_state=2021)"
   ]
  },
  {
   "cell_type": "code",
   "execution_count": 4,
   "metadata": {},
   "outputs": [],
   "source": [
    "rf_clf=RandomForestClassifier(n_estimators=10, random_state=2021)\n",
    "ext_clf=ExtraTreesClassifier(n_estimators=10, random_state=2021)\n",
    "svm_clf=LinearSVC(max_iter=100, random_state=2021)\n",
    "knn_clf=KNeighborsClassifier(n_neighbors=5)"
   ]
  },
  {
   "cell_type": "code",
   "execution_count": 5,
   "metadata": {},
   "outputs": [],
   "source": [
    "from sklearn.metrics import accuracy_score"
   ]
  },
  {
   "cell_type": "code",
   "execution_count": 26,
   "metadata": {},
   "outputs": [
    {
     "name": "stderr",
     "output_type": "stream",
     "text": [
      "/Users/nam-ilyang/opt/anaconda3/lib/python3.8/site-packages/sklearn/svm/_base.py:985: ConvergenceWarning: Liblinear failed to converge, increase the number of iterations.\n",
      "  warnings.warn(\"Liblinear failed to converge, increase \"\n"
     ]
    }
   ],
   "source": [
    "classifiers=[rf_clf, ext_clf, svm_clf,knn_clf]\n",
    "\n",
    "for model in classifiers:\n",
    "    model.fit(X_train, y_train)"
   ]
  },
  {
   "cell_type": "code",
   "execution_count": 7,
   "metadata": {
    "scrolled": true
   },
   "outputs": [
    {
     "name": "stdout",
     "output_type": "stream",
     "text": [
      "accuracy of RandomForestClassifier(n_estimators=10, random_state=2021) :  0.956\n",
      "accuracy of ExtraTreesClassifier(n_estimators=10, random_state=2021) :  0.961\n",
      "accuracy of LinearSVC(max_iter=100, random_state=2021) :  0.863\n",
      "accuracy of KNeighborsClassifier() :  0.971\n"
     ]
    }
   ],
   "source": [
    "for model in classifiers:\n",
    "    y_pred=model.predict(X_val)\n",
    "    print(f'accuracy of {model} : ', accuracy_score(y_val, y_pred))"
   ]
  },
  {
   "cell_type": "code",
   "execution_count": 8,
   "metadata": {},
   "outputs": [],
   "source": [
    "from sklearn.ensemble import VotingClassifier\n",
    "\n",
    "classifier_model = [('RandomForest', rf_clf),\n",
    "                   ('extraTreeForest', ext_clf),\n",
    "                   ('LinearSVM', svm_clf),\n",
    "                   ('KNNeighbor',knn_clf)]"
   ]
  },
  {
   "cell_type": "code",
   "execution_count": 9,
   "metadata": {},
   "outputs": [],
   "source": [
    "voting_clf=VotingClassifier(classifier_model)"
   ]
  },
  {
   "cell_type": "code",
   "execution_count": 10,
   "metadata": {},
   "outputs": [
    {
     "name": "stderr",
     "output_type": "stream",
     "text": [
      "/Users/nam-ilyang/opt/anaconda3/lib/python3.8/site-packages/sklearn/svm/_base.py:985: ConvergenceWarning: Liblinear failed to converge, increase the number of iterations.\n",
      "  warnings.warn(\"Liblinear failed to converge, increase \"\n"
     ]
    },
    {
     "data": {
      "text/plain": [
       "VotingClassifier(estimators=[('RandomForest',\n",
       "                              RandomForestClassifier(n_estimators=10,\n",
       "                                                     random_state=2021)),\n",
       "                             ('extraTreeForest',\n",
       "                              ExtraTreesClassifier(n_estimators=10,\n",
       "                                                   random_state=2021)),\n",
       "                             ('LinearSVM',\n",
       "                              LinearSVC(max_iter=100, random_state=2021)),\n",
       "                             ('KNNeighbor', KNeighborsClassifier())])"
      ]
     },
     "execution_count": 10,
     "metadata": {},
     "output_type": "execute_result"
    }
   ],
   "source": [
    "voting_clf.fit(X_train, y_train)"
   ]
  },
  {
   "cell_type": "code",
   "execution_count": 11,
   "metadata": {},
   "outputs": [
    {
     "data": {
      "text/plain": [
       "0.973"
      ]
     },
     "execution_count": 11,
     "metadata": {},
     "output_type": "execute_result"
    }
   ],
   "source": [
    "voting_clf.score(X_val, y_val)"
   ]
  },
  {
   "cell_type": "code",
   "execution_count": 12,
   "metadata": {},
   "outputs": [
    {
     "name": "stderr",
     "output_type": "stream",
     "text": [
      "/Users/nam-ilyang/opt/anaconda3/lib/python3.8/site-packages/sklearn/svm/_base.py:985: ConvergenceWarning: Liblinear failed to converge, increase the number of iterations.\n",
      "  warnings.warn(\"Liblinear failed to converge, increase \"\n",
      "/Users/nam-ilyang/opt/anaconda3/lib/python3.8/site-packages/sklearn/svm/_base.py:985: ConvergenceWarning: Liblinear failed to converge, increase the number of iterations.\n",
      "  warnings.warn(\"Liblinear failed to converge, increase \"\n",
      "/Users/nam-ilyang/opt/anaconda3/lib/python3.8/site-packages/sklearn/svm/_base.py:985: ConvergenceWarning: Liblinear failed to converge, increase the number of iterations.\n",
      "  warnings.warn(\"Liblinear failed to converge, increase \"\n"
     ]
    },
    {
     "data": {
      "text/plain": [
       "VotingClassifier(estimators=[('extraTreeForest',\n",
       "                              ExtraTreesClassifier(n_estimators=10,\n",
       "                                                   random_state=2021)),\n",
       "                             ('LinearSVM',\n",
       "                              LinearSVC(max_iter=100, random_state=2021)),\n",
       "                             ('KNNeighbor', KNeighborsClassifier())])"
      ]
     },
     "execution_count": 12,
     "metadata": {},
     "output_type": "execute_result"
    }
   ],
   "source": [
    "classifier_1=[('RandomForest', rf_clf),('extraTreeForest', ext_clf),('LinearSVM', svm_clf)]\n",
    "classifier_2=[('RandomForest', rf_clf),('extraTreeForest', ext_clf),('KNNeighbor',knn_clf)]\n",
    "classifier_3=[('RandomForest', rf_clf),('LinearSVM', svm_clf),('KNNeighbor',knn_clf)]\n",
    "classifier_4=[('extraTreeForest', ext_clf),('LinearSVM', svm_clf),('KNNeighbor',knn_clf)]\n",
    "\n",
    "voting_clf_1=VotingClassifier(classifier_1)\n",
    "voting_clf_2=VotingClassifier(classifier_2)\n",
    "voting_clf_3=VotingClassifier(classifier_3)\n",
    "voting_clf_4=VotingClassifier(classifier_4)\n",
    "\n",
    "voting_clf_1.fit(X_train,y_train)\n",
    "voting_clf_2.fit(X_train,y_train)\n",
    "voting_clf_3.fit(X_train,y_train)\n",
    "voting_clf_4.fit(X_train,y_train)"
   ]
  },
  {
   "cell_type": "code",
   "execution_count": 13,
   "metadata": {},
   "outputs": [
    {
     "name": "stdout",
     "output_type": "stream",
     "text": [
      "0.965\n",
      "0.972\n",
      "0.973\n",
      "0.97\n"
     ]
    }
   ],
   "source": [
    "print(voting_clf_1.score(X_val, y_val))\n",
    "print(voting_clf_2.score(X_val, y_val))\n",
    "print(voting_clf_3.score(X_val, y_val))\n",
    "print(voting_clf_4.score(X_val, y_val))"
   ]
  },
  {
   "cell_type": "code",
   "execution_count": 14,
   "metadata": {},
   "outputs": [],
   "source": [
    "voting_clf_2.voting='soft'"
   ]
  },
  {
   "cell_type": "code",
   "execution_count": 15,
   "metadata": {},
   "outputs": [
    {
     "data": {
      "text/plain": [
       "0.976"
      ]
     },
     "execution_count": 15,
     "metadata": {},
     "output_type": "execute_result"
    }
   ],
   "source": [
    "voting_clf_2.score(X_val, y_val)"
   ]
  },
  {
   "cell_type": "code",
   "execution_count": 16,
   "metadata": {},
   "outputs": [
    {
     "data": {
      "text/plain": [
       "0.97"
      ]
     },
     "execution_count": 16,
     "metadata": {},
     "output_type": "execute_result"
    }
   ],
   "source": [
    "voting_clf_2.score(X_test, y_test)"
   ]
  },
  {
   "cell_type": "markdown",
   "metadata": {},
   "source": [
    "# exercise 9"
   ]
  },
  {
   "cell_type": "code",
   "execution_count": 17,
   "metadata": {},
   "outputs": [],
   "source": [
    "X_val_pred=np.empty((len(X_val), len(classifiers)),dtype=np.float32)"
   ]
  },
  {
   "cell_type": "code",
   "execution_count": 18,
   "metadata": {},
   "outputs": [],
   "source": [
    "for i, model in enumerate(classifiers):\n",
    "    X_val_pred[:,i]=model.predict(X_val)"
   ]
  },
  {
   "cell_type": "code",
   "execution_count": 19,
   "metadata": {},
   "outputs": [
    {
     "data": {
      "text/plain": [
       "RandomForestClassifier(oob_score=True, random_state=2021)"
      ]
     },
     "execution_count": 19,
     "metadata": {},
     "output_type": "execute_result"
    }
   ],
   "source": [
    "rf_blender=RandomForestClassifier(n_estimators=100,oob_score=True,random_state=2021)\n",
    "rf_blender.fit(X_val_pred, y_val)"
   ]
  },
  {
   "cell_type": "code",
   "execution_count": 20,
   "metadata": {},
   "outputs": [
    {
     "data": {
      "text/plain": [
       "0.97"
      ]
     },
     "execution_count": 20,
     "metadata": {},
     "output_type": "execute_result"
    }
   ],
   "source": [
    "rf_blender.oob_score_"
   ]
  },
  {
   "cell_type": "code",
   "execution_count": 22,
   "metadata": {},
   "outputs": [],
   "source": [
    "X_test_pred=np.empty((len(X_test), len(classifiers)),dtype=np.float32)\n",
    "\n",
    "for i, model in enumerate(classifiers):\n",
    "    X_test_pred[:,i]=model.predict(X_test)"
   ]
  },
  {
   "cell_type": "code",
   "execution_count": 24,
   "metadata": {},
   "outputs": [],
   "source": [
    "y_pred=rf_blender.predict(X_test_pred)"
   ]
  },
  {
   "cell_type": "code",
   "execution_count": 25,
   "metadata": {},
   "outputs": [
    {
     "data": {
      "text/plain": [
       "0.96"
      ]
     },
     "execution_count": 25,
     "metadata": {},
     "output_type": "execute_result"
    }
   ],
   "source": [
    "accuracy_score(y_test,y_pred)\n",
    "#왠만한 개별적인 분류기 보다 나은 결과를 보인다"
   ]
  }
 ],
 "metadata": {
  "kernelspec": {
   "display_name": "Python 3",
   "language": "python",
   "name": "python3"
  },
  "language_info": {
   "codemirror_mode": {
    "name": "ipython",
    "version": 3
   },
   "file_extension": ".py",
   "mimetype": "text/x-python",
   "name": "python",
   "nbconvert_exporter": "python",
   "pygments_lexer": "ipython3",
   "version": "3.8.5"
  }
 },
 "nbformat": 4,
 "nbformat_minor": 4
}
